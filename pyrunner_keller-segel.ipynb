{
 "cells": [
  {
   "cell_type": "markdown",
   "metadata": {},
   "source": [
    "# Run the Keller-Segel program from Jupyter (Python)"
   ]
  },
  {
   "cell_type": "markdown",
   "metadata": {},
   "source": [
    "Este cuaderno Jupyter se utiliza para ejecutar un programa (un *script*) en lenguaje [FreeFem++](www.freefem.org), con el fin de resolver numéricamente las ecuaciones de Keller-Segel:\n",
    "$$\n",
    "\\begin{align}\n",
    "u_t &= \\Delta u - \\nabla\\cdot(u \\nabla v),\\\\\n",
    "v_t &= \\Delta v - v + u,\\\\\n",
    "\\end{align}\n",
    "$$\n",
    "con condiciones de contorno\n",
    "$$\n",
    "\\nabla u \\cdot n = \\nabla v \\cdot n = 0 \n",
    "$$\n",
    "y post-procesar la salida, generando gráficas etc."
   ]
  },
  {
   "cell_type": "markdown",
   "metadata": {},
   "source": [
    "## 1. Crea un oggetto (che chiamiamo \"freefem\") per eseguire lo script\n",
    "\n",
    "Prima, definiamo i parametri che lo script utilizzerà"
   ]
  },
  {
   "cell_type": "code",
   "execution_count": 14,
   "metadata": {},
   "outputs": [],
   "source": [
    "# Load module to run programs\n",
    "import pyrunner as pr\n",
    "\n",
    "# Ruta a la carpeta donde está el script en lenguaje FreeFem++ (.edp)\n",
    "keller_segel_path = \"~/inves/keller-segel/keseites\"\n",
    "# Nombre del script\n",
    "edp_file = \"keller-segel.edp\"\n",
    "# Args passed to script\n",
    "dt, nt = 1e-4, 200 # Time step and number of steps\n",
    "edp_args = { \"-dt\": dt, \"-nt\": nt }\n",
    "# Object specialized in running FreeFem++ scripts\n",
    "freefem = pr.FreeFemRunner(\n",
    "        edp_file, \n",
    "        path = keller_segel_path,\n",
    "        args = edp_args\n",
    "    )"
   ]
  },
  {
   "cell_type": "markdown",
   "metadata": {},
   "source": [
    "## 2.- Esegui lo script e filtra l'output per ottenere i dati che ci interessano\n",
    "\n",
    "L'esecuzione del programma tramite il modulo *pyrunner* ci consente di accedere a ciascuna riga dell'output della tua console. Attraverso di esso, accediamo ai dati prodotti dal programma. Questi dati vengono utilizzati per generare (in tempo reale) una tabella di risultati, attraverso il modulo *panda* e un grafico finale. Inoltre, l'evoluzione nel tempo viene indicata mediante una barra di avanzamento (utilizzando il modulo *ipywidgets*).\n",
    "\n",
    "La ejecución del programa mediante el módulo *pyrunner* nos permite acceder a cada línea de su salida en consola. A través de ella, accedemos a los datos que produce el programa. Estos datos se utilizan para generar (en tiempo real) una tabla de resultados, mediante el módulo *pandas* y una gráfica final. Además, se muestra la evolución en tiempo mediante una barra de progreso (utilizando el módulo *ipywidgets*)."
   ]
  },
  {
   "cell_type": "code",
   "execution_count": 15,
   "metadata": {},
   "outputs": [
    {
     "data": {
      "application/vnd.jupyter.widget-view+json": {
       "model_id": "2abbf1a1276b424a8c36c4172c963d96",
       "version_major": 2,
       "version_minor": 0
      },
      "text/html": [
       "<p>Failed to display Jupyter Widget of type <code>IntProgress</code>.</p>\n",
       "<p>\n",
       "  If you're reading this message in the Jupyter Notebook or JupyterLab Notebook, it may mean\n",
       "  that the widgets JavaScript is still loading. If this message persists, it\n",
       "  likely means that the widgets JavaScript library is either not installed or\n",
       "  not enabled. See the <a href=\"https://ipywidgets.readthedocs.io/en/stable/user_install.html\">Jupyter\n",
       "  Widgets Documentation</a> for setup instructions.\n",
       "</p>\n",
       "<p>\n",
       "  If you're reading this message in another frontend (for example, a static\n",
       "  rendering on GitHub or <a href=\"https://nbviewer.jupyter.org/\">NBViewer</a>),\n",
       "  it may mean that your frontend doesn't currently support widgets.\n",
       "</p>\n"
      ],
      "text/plain": [
       "IntProgress(value=0, description='Time:', max=200)"
      ]
     },
     "metadata": {},
     "output_type": "display_data"
    },
    {
     "data": {
      "text/html": [
       "<div>\n",
       "<table border=\"1\" class=\"dataframe\">\n",
       "  <thead>\n",
       "    <tr style=\"text-align: right;\">\n",
       "      <th></th>\n",
       "      <th>time</th>\n",
       "      <th>max(u)</th>\n",
       "      <th>max(v)</th>\n",
       "    </tr>\n",
       "  </thead>\n",
       "  <tbody>\n",
       "    <tr>\n",
       "      <th>1</th>\n",
       "      <td>0.0001</td>\n",
       "      <td>299.282</td>\n",
       "      <td>140.743</td>\n",
       "    </tr>\n",
       "    <tr>\n",
       "      <th>50</th>\n",
       "      <td>0.0050</td>\n",
       "      <td>635.782</td>\n",
       "      <td>138.738</td>\n",
       "    </tr>\n",
       "    <tr>\n",
       "      <th>100</th>\n",
       "      <td>0.0100</td>\n",
       "      <td>1252.930</td>\n",
       "      <td>138.785</td>\n",
       "    </tr>\n",
       "    <tr>\n",
       "      <th>150</th>\n",
       "      <td>0.0150</td>\n",
       "      <td>2437.100</td>\n",
       "      <td>141.699</td>\n",
       "    </tr>\n",
       "    <tr>\n",
       "      <th>200</th>\n",
       "      <td>0.0200</td>\n",
       "      <td>5452.210</td>\n",
       "      <td>148.995</td>\n",
       "    </tr>\n",
       "  </tbody>\n",
       "</table>\n",
       "</div>"
      ],
      "text/plain": [
       "       time    max(u)   max(v)\n",
       "1    0.0001   299.282  140.743\n",
       "50   0.0050   635.782  138.738\n",
       "100  0.0100  1252.930  138.785\n",
       "150  0.0150  2437.100  141.699\n",
       "200  0.0200  5452.210  148.995"
      ]
     },
     "metadata": {},
     "output_type": "display_data"
    },
    {
     "name": "stdout",
     "output_type": "stream",
     "text": [
      "Running command:\n",
      "FreeFem++ -nw  -cd  -ne  ~/inves/keller-segel/keseites/keller-segel.edp -nt 200 -dt 0.0001\n"
     ]
    },
    {
     "data": {
      "image/png": "[encoded data removed]",
      "text/plain": [
       "<matplotlib.figure.Figure at 0x7fb450f0a6d8>"
      ]
     },
     "metadata": {},
     "output_type": "display_data"
    },
    {
     "name": "stdout",
     "output_type": "stream",
     "text": [
      "Raw data: max(u) = [299.282, 304.233, 309.253, 314.342, 319.502, 324.732, 330.034, 335.409, 340.856, 346.377, 351.973, 357.643, 363.389, 369.212, 375.111, 381.088, 387.144, 393.279, 399.493, 405.789, 412.165, 418.623, 425.164, 431.789, 438.497, 445.291, 452.169, 459.134, 466.186, 473.326, 480.555, 487.872, 495.28, 502.779, 510.369, 518.051, 525.827, 533.697, 541.662, 549.722, 557.879, 566.133, 574.486, 582.938, 591.489, 600.142, 608.897, 617.755, 626.716, 635.782, 644.955, 654.234, 663.62, 673.116, 682.722, 692.439, 702.269, 712.212, 722.269, 732.443, 742.734, 753.143, 763.671, 774.321, 785.093, 795.989, 807.01, 818.158, 829.434, 840.84, 852.377, 864.047, 875.852, 887.793, 899.872, 912.091, 924.451, 936.955, 949.605, 962.402, 975.349, 988.448, 1001.7, 1015.11, 1028.68, 1042.4, 1056.29, 1070.35, 1084.57, 1098.97, 1113.54, 1128.28, 1143.2, 1158.31, 1173.6, 1189.08, 1204.75, 1220.61, 1236.67, 1252.93, 1269.4, 1286.07, 1302.96, 1320.06, 1337.38, 1354.93, 1372.7, 1390.71, 1408.95, 1427.43, 1446.16, 1465.14, 1484.38, 1503.87, 1523.63, 1543.66, 1563.97, 1584.56, 1605.44, 1626.61, 1648.09, 1669.87, 1691.96, 1714.37, 1737.11, 1760.18, 1783.6, 1807.36, 1831.48, 1855.96, 1880.82, 1906.06, 1931.69, 1957.72, 1984.16, 2011.01, 2038.3, 2066.02, 2094.19, 2122.82, 2151.92, 2181.51, 2211.59, 2242.18, 2273.28, 2304.93, 2337.11, 2369.86, 2403.18, 2437.1, 2471.61, 2506.75, 2542.53, 2578.97, 2616.07, 2653.87, 2692.38, 2731.61, 2771.6, 2812.36, 2853.91, 2896.27, 2939.48, 2983.54, 3028.5, 3074.36, 3121.17, 3168.95, 3217.72, 3267.52, 3318.38, 3370.33, 3423.4, 3477.64, 3533.07, 3589.73, 3647.67, 3706.92, 3767.52, 3829.53, 3892.99, 3957.94, 4024.43, 4092.52, 4162.27, 4233.72, 4306.94, 4381.99, 4458.94, 4537.85, 4618.79, 4701.84, 4787.07, 4874.57, 4964.42, 5056.71, 5151.54, 5248.99, 5349.18, 5452.21] \n",
      "\n",
      "Raw data: max(v) = [140.743, 140.686, 140.63, 140.574, 140.519, 140.464, 140.41, 140.357, 140.304, 140.252, 140.201, 140.15, 140.1, 140.05, 140.001, 139.953, 139.906, 139.859, 139.812, 139.767, 139.722, 139.678, 139.634, 139.591, 139.549, 139.508, 139.467, 139.427, 139.387, 139.349, 139.311, 139.274, 139.237, 139.202, 139.167, 139.133, 139.1, 139.067, 139.035, 139.004, 138.974, 138.944, 138.916, 138.888, 138.861, 138.835, 138.809, 138.785, 138.761, 138.738, 138.716, 138.695, 138.675, 138.655, 138.637, 138.619, 138.602, 138.586, 138.571, 138.557, 138.544, 138.531, 138.52, 138.509, 138.499, 138.491, 138.483, 138.476, 138.47, 138.465, 138.461, 138.458, 138.456, 138.455, 138.455, 138.456, 138.457, 138.46, 138.464, 138.469, 138.475, 138.481, 138.489, 138.498, 138.508, 138.519, 138.531, 138.544, 138.558, 138.573, 138.59, 138.607, 138.625, 138.645, 138.665, 138.687, 138.71, 138.734, 138.759, 138.785, 138.812, 138.84, 138.87, 138.9, 138.932, 138.965, 138.999, 139.035, 139.071, 139.109, 139.148, 139.188, 139.229, 139.272, 139.316, 139.361, 139.407, 139.454, 139.503, 139.553, 139.605, 139.657, 139.711, 139.766, 139.823, 139.881, 139.94, 140.001, 140.063, 140.126, 140.191, 140.257, 140.324, 140.393, 140.464, 140.535, 140.609, 140.683, 140.759, 140.837, 140.916, 140.997, 141.079, 141.163, 141.248, 141.335, 141.424, 141.514, 141.605, 141.699, 141.794, 141.89, 141.989, 142.089, 142.19, 142.294, 142.399, 142.506, 142.615, 142.726, 142.838, 142.953, 143.069, 143.187, 143.308, 143.43, 143.554, 143.68, 143.808, 143.938, 144.071, 144.205, 144.342, 144.481, 144.622, 144.765, 144.911, 145.059, 145.209, 145.362, 145.517, 145.675, 145.835, 145.998, 146.163, 146.331, 146.502, 146.676, 146.852, 147.031, 147.214, 147.399, 147.587, 147.778, 147.973, 148.17, 148.371, 148.576, 148.783, 148.995] \n",
      "\n",
      "Computing time:\n",
      "11.2 s ± 0 ns per loop (mean ± std. dev. of 1 run, 1 loop each)\n"
     ]
    }
   ],
   "source": [
    "%%timeit -n 1 -r 1 # Ejecutar esta celda una sola vez vez y medir el tiempo\n",
    "\n",
    "# For graphics\n",
    "import numpy as np\n",
    "import matplotlib.pyplot as plt\n",
    "\n",
    "# For tables\n",
    "from pandas import DataFrame\n",
    "from IPython.display import DisplayHandle\n",
    "\n",
    "# For progress bar\n",
    "import ipywidgets as widgets\n",
    "\n",
    "# Show time in a progress bar widget\n",
    "progress_bar = widgets.IntProgress(\n",
    "    min=0,\n",
    "    max=nt,\n",
    "    description='Time:' )\n",
    "display(progress_bar)\n",
    "\n",
    "# Display data in a table\n",
    "df = DataFrame(columns=[\"time\", \"max(u)\",\"max(v)\"])\n",
    "handle = DisplayHandle()\n",
    "handle.display(df)\n",
    "\n",
    "# Run program and capture output (real time!)\n",
    "output_lines = []\n",
    "print_output = False\n",
    "t=[]; u=[]; v=[]\n",
    "i = 0\n",
    "print(\"Running command:\\n\" + fr.get_command())\n",
    "for line in freefem.run():\n",
    "    output_lines.append(line.data())\n",
    "    if print_output: print(line)\n",
    "    \n",
    "    # Does this line contains time?\n",
    "    time_found = line.find_float(\"t={}\")\n",
    "    if time_found:\n",
    "        time = float(time_found)\n",
    "        t.append(time)\n",
    "        i = i+1\n",
    "        progress_bar.value = i\n",
    "        progress_bar.description = \"{}/{} iter\".format(i, nt)\n",
    "        \n",
    "    # Does this line contains max(u)?\n",
    "    max_u_found = line.find_float(\"max\\(u\\): {}\") \n",
    "    if max_u_found:\n",
    "        max_u = float(max_u_found)\n",
    "        u.append(max_u)\n",
    "        \n",
    "   # Does this line contains max(v)?\n",
    "    max_v_found = line.find_float(\"max\\(v\\): {}\")       \n",
    "    if max_v_found:\n",
    "        max_v = float(max_v_found)\n",
    "        v.append(max_v)\n",
    "\n",
    "        if i== 1 or i % 50 == 0: # Show some lines in a table\n",
    "            df.loc[i] = [time, max_u, max_v] \n",
    "            handle.update(df)\n",
    "\n",
    "# Finished, plot result\n",
    "plt.grid()\n",
    "plt.plot(t, u, lw=4)    \n",
    "plt.title(\"Max(u)\")\n",
    "plt.show()\n",
    "\n",
    "# And also dump the data obtained\n",
    "print(\"Raw data: max(u) =\", u, \"\\n\")\n",
    "print(\"Raw data: max(v) =\", v, \"\\n\")\n",
    "print(\"Computing time:\")"
   ]
  },
  {
   "cell_type": "code",
   "execution_count": null,
   "metadata": {},
   "outputs": [],
   "source": []
  }
 ],
 "metadata": {
  "kernelspec": {
   "display_name": "Python 3",
   "language": "python",
   "name": "python3"
  },
  "language_info": {
   "codemirror_mode": {
    "name": "ipython",
    "version": 3
   },
   "file_extension": ".py",
   "mimetype": "text/x-python",
   "name": "python",
   "nbconvert_exporter": "python",
   "pygments_lexer": "ipython3",
   "version": "3.5.2"
  }
 },
 "nbformat": 4,
 "nbformat_minor": 2
}
