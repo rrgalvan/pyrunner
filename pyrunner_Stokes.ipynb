{
 "cells": [
  {
   "cell_type": "code",
   "execution_count": 10,
   "metadata": {},
   "outputs": [
    {
     "name": "stdout",
     "output_type": "stream",
     "text": [
      "The autoreload extension is already loaded. To reload it, use:\n",
      "  %reload_ext autoreload\n"
     ]
    }
   ],
   "source": [
    "%load_ext autoreload\n",
    "%autoreload 2\n",
    "import pyrunner as pr\n",
    "\n",
    "mfem_path = \"~/src/mfem/mfem-rrgalvan\"\n",
    "mesh_file = \"inline-tri.mesh\"\n",
    "stokes_args = { \n",
    "    \"--mesh\": \"%s/data/%s\" % (mfem_path, mesh_file)\n",
    "}\n",
    "r = pr.PyRunner(\"exStokes\", \n",
    "                path = \"%s/examples/\" % mfem_path,\n",
    "                args = stokes_args\n",
    "               )"
   ]
  },
  {
   "cell_type": "code",
   "execution_count": 19,
   "metadata": {},
   "outputs": [
    {
     "name": "stdout",
     "output_type": "stream",
     "text": [
      "Running command ~/src/mfem/mfem-rrgalvan/examples/exStokes --mesh ~/src/mfem/mfem-rrgalvan/data/inline-tri.mesh\n",
      "33282\n",
      "dim(Vh) = 33282\n",
      "4225\n",
      "dim(Qh) = 4225\n",
      "37507\n",
      "dim(Vh+Qh) = 37507\n"
     ]
    }
   ],
   "source": [
    "print(\"Running command \" + r.get_command())\n",
    "for line in r.run(output=pr.OutputLine):\n",
    "    print_output = False\n",
    "    if print_output: print(line)\n",
    "    data = line.find_float(\"dim\\(.+\\) = {}\") #line.find(\"dim.+ = (.+)\")\n",
    "    if data:       \n",
    "        print(data)\n",
    "        print(line.data())"
   ]
  },
  {
   "cell_type": "code",
   "execution_count": null,
   "metadata": {},
   "outputs": [],
   "source": []
  }
 ],
 "metadata": {
  "kernelspec": {
   "display_name": "Python 3",
   "language": "python",
   "name": "python3"
  },
  "language_info": {
   "codemirror_mode": {
    "name": "ipython",
    "version": 3
   },
   "file_extension": ".py",
   "mimetype": "text/x-python",
   "name": "python",
   "nbconvert_exporter": "python",
   "pygments_lexer": "ipython3",
   "version": "3.5.2"
  }
 },
 "nbformat": 4,
 "nbformat_minor": 2
}
