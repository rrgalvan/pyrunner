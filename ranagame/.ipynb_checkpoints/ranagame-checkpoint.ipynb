{
 "cells": [
  {
   "cell_type": "code",
   "execution_count": 11,
   "metadata": {
    "scrolled": true
   },
   "outputs": [
    {
     "name": "stdout",
     "output_type": "stream",
     "text": [
      "Ha ganado el juego!\n"
     ]
    }
   ],
   "source": [
    "# INTIALISATION\n",
    "import pygame\n",
    "import math, sys\n",
    "import numpy as np\n",
    "from pygame.locals import *\n",
    "screen = pygame.display.set_mode((1024, 768))\n",
    "\n",
    "# Definir datos\n",
    "rana = pygame.image.load('rana.png')\n",
    "mosca=pygame.image.load('mosca.jpg')\n",
    "mosca1=pygame.transform.scale(mosca,(50, 50))\n",
    "clock = pygame.time.Clock()\n",
    "k_up = k_down = k_left = k_right = 0\n",
    "speed = direction = 0\n",
    "position = (100, 100)\n",
    "\n",
    "posmosca1=np.random.rand(10)*1024 \n",
    "posmosca2=np.random.rand(10)*768 \n",
    "posmosca=[]\n",
    "for i in range(10):\n",
    "    posmosca.append((posmosca1[i],posmosca2[i]))\n",
    "#hemos guardado en posmosca las posiciones de las 10 moscas a poner\n",
    "    \n",
    "TURN_SPEED = 5\n",
    "ACCELERATION = 2\n",
    "MAX_FORWARD_SPEED = 10\n",
    "MAX_REVERSE_SPEED = -5\n",
    "BLACK = (0,0,0)\n",
    "\n",
    "comida=[0,0,0,0,0,0,0,0,0,0]#indica que no se ha comido ninguna mosca\n",
    "#los valores valdrán 1 cuando se coma la mosca correspondiente a esa casilla\n",
    "\n",
    "\n",
    "\n",
    "fin_juego = False\n",
    "while not fin_juego:\n",
    "# USER INPUT\n",
    "    clock.tick(30)\n",
    "    for event in pygame.event.get():\n",
    "        if not hasattr(event, 'key'): continue\n",
    "        down = event.type == KEYDOWN # key down or up?\n",
    "        if event.key == K_RIGHT: k_right = down * -5\n",
    "        elif event.key == K_LEFT: k_left = down * 5\n",
    "        elif event.key == K_UP: k_up = down * 2\n",
    "        elif event.key == K_DOWN: k_down = down * -2\n",
    "        elif event.key == K_ESCAPE: fin_juego = 1 # quit the game\n",
    "    screen.fill(BLACK)\n",
    "    # SIMULATION\n",
    "    # .. new speed and direction based on acceleration and turn\n",
    "    speed += (k_up + k_down)\n",
    "    if speed > MAX_FORWARD_SPEED: speed = MAX_FORWARD_SPEED\n",
    "    if speed < MAX_REVERSE_SPEED: speed = MAX_REVERSE_SPEED\n",
    "    direction += (k_right + k_left)\n",
    "    \n",
    "    #Pongamos un fondo y diez moscas en la pantalla\n",
    "    fondo = pygame.image.load(\"fondo.jpg\").convert()\n",
    "    fondo1=pygame.transform.scale(fondo,(1024, 768))\n",
    "    screen.blit(fondo1, (0, 0))\n",
    "    for i in range(10):\n",
    "        if comida[i]==0:\n",
    "            screen.blit(mosca1,posmosca[i])\n",
    "    \n",
    "    # .. new position based on current position, speed and direction\n",
    "    x, y = position\n",
    "    rad = direction * math.pi / 180\n",
    "    x += -speed*math.sin(rad)\n",
    "    y += -speed*math.cos(rad)\n",
    "    position = (x, y)\n",
    "    # RENDERING\n",
    "    # .. rotate the \"rana\" image for direction\n",
    "    rotated = pygame.transform.rotate(rana, direction)\n",
    "    # .. position the \"rana\" on screen\n",
    "    rect = rotated.get_rect()\n",
    "    \n",
    "    rect.center = position\n",
    "    # .. render the \"rana\" to screen\n",
    "    screen.blit(rotated, rect)\n",
    "    \n",
    "    #ranas que se come:\n",
    "    for i in range(10):\n",
    "        if 0< position[0]-posmosca1[i]<50 and 0< position[1]-posmosca2[i]<50:\n",
    "            comida[i]=1\n",
    "            \n",
    "    if comida==[1,1,1,1,1,1,1,1,1,1]:\n",
    "        fin_juego=True\n",
    "    \n",
    "    if fin_juego==True:\n",
    "        print('Ha ganado el juego!')\n",
    "    \n",
    "    \n",
    "    pygame.display.flip()\n",
    "    \n",
    "pygame.display.quit()"
   ]
  },
  {
   "cell_type": "code",
   "execution_count": null,
   "metadata": {
    "collapsed": true
   },
   "outputs": [],
   "source": []
  }
 ],
 "metadata": {
  "kernelspec": {
   "display_name": "Python 3",
   "language": "python",
   "name": "python3"
  },
  "language_info": {
   "codemirror_mode": {
    "name": "ipython",
    "version": 3
   },
   "file_extension": ".py",
   "mimetype": "text/x-python",
   "name": "python",
   "nbconvert_exporter": "python",
   "pygments_lexer": "ipython3",
   "version": "3.6.3"
  }
 },
 "nbformat": 4,
 "nbformat_minor": 2
}
