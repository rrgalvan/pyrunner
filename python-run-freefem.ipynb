{
 "cells": [
  {
   "cell_type": "markdown",
   "metadata": {},
   "source": [
    "# Ejecución desde Jupyter de scripts FreeFem++"
   ]
  },
  {
   "cell_type": "markdown",
   "metadata": {},
   "source": [
    "## 1. Llamada directa al intérprete FreeFem++"
   ]
  },
  {
   "cell_type": "code",
   "execution_count": 7,
   "metadata": {},
   "outputs": [
    {
     "name": "stdout",
     "output_type": "stream",
     "text": [
      "-- FreeFem++ v  3.380001 (date Sat Feb  6 20:00:25 UTC 2016)\n",
      " Load: lg_fem lg_mesh lg_mesh3 eigenvalue \n",
      " sizestack + 1024 =8000  ( 6976 )\n",
      "\n",
      "Solving, iter: 1 (t=0.5)\n",
      "  max(u): 3126.7\n",
      "  max(v): 108.496\n",
      "Solving, iter: 2 (t=1)\n",
      "  max(u): 8754.46\n",
      "  max(v): 383.326\n"
     ]
    }
   ],
   "source": [
    "!FreeFem++-nw -ne keller-segel.edp -dt 0.001 -nt 2"
   ]
  },
  {
   "cell_type": "markdown",
   "metadata": {},
   "source": [
    "## 2.- Ejecución de una shell bash"
   ]
  },
  {
   "cell_type": "code",
   "execution_count": 13,
   "metadata": {},
   "outputs": [
    {
     "name": "stdout",
     "output_type": "stream",
     "text": [
      "-- FreeFem++ v  3.380001 (date Sat Feb  6 20:00:25 UTC 2016)\n",
      " Load: lg_fem lg_mesh lg_mesh3 eigenvalue \n",
      " sizestack + 1024 =8000  ( 6976 )\n",
      "\n",
      "Solving, iter: 1 (t=0.001)\n",
      "  max(u): 342.161\n",
      "  max(v): 140.233\n",
      "Solving, iter: 2 (t=0.002)\n",
      "  max(u): 396.142\n",
      "  max(v): 139.722\n"
     ]
    }
   ],
   "source": [
    "%%bash\n",
    "nt=2\n",
    "dt=0.001\n",
    "FreeFem++-nw -ne keller-segel.edp -dt $dt -nt $nt"
   ]
  },
  {
   "cell_type": "markdown",
   "metadata": {},
   "source": [
    "## 3.- Uso del módulo subprocess para ejecutar el intérprete FreeFem++"
   ]
  },
  {
   "cell_type": "code",
   "execution_count": 12,
   "metadata": {},
   "outputs": [
    {
     "name": "stdout",
     "output_type": "stream",
     "text": [
      "command:  ['FreeFem++', '-ne', 'keller-segel.edp', '-dt', '0.001', '-tf', '1']\n",
      "b'-- FreeFem++ v  3.380001 (date Sat Feb  6 20:00:25 UTC 2016)\\n Load: lg_fem lg_mesh lg_mesh3 eigenvalue \\n sizestack + 1024 =8000  ( 6976 )\\n\\nSolving, iter: 1 (t=0.001)\\n  max(u): 342.161\\n  max(v): 140.233\\nSolving, iter: 2 (t=0.002)\\n  max(u): 396.142\\n  max(v): 139.722\\nSolving, iter: 3 (t=0.003)\\n  max(u): 456.852\\n  max(v): 139.269\\nSolving, iter: 4 (t=0.004)\\n  max(u): 524.813\\n  max(v): 138.88\\nSolving, iter: 5 (t=0.005)\\n  max(u): 600.571\\n  max(v): 138.56\\nSolving, iter: 6 (t=0.006)\\n  max(u): 684.72\\n  max(v): 138.313\\nSolving, iter: 7 (t=0.007)\\n  max(u): 777.934\\n  max(v): 138.144\\nSolving, iter: 8 (t=0.008)\\n  max(u): 881.004\\n  max(v): 138.057\\nSolving, iter: 9 (t=0.009)\\n  max(u): 994.893\\n  max(v): 138.057\\nSolving, iter: 10 (t=0.01)\\n  max(u): 1120.8\\n  max(v): 138.147\\n'\n"
     ]
    }
   ],
   "source": [
    "#!/usr/bin/env python\n",
    "import subprocess\n",
    "\n",
    "dt, T = 0.001, 1\n",
    "command = \"FreeFem++ -ne keller-segel.edp -dt {} -tf {}\".format(dt,T).split()\n",
    "print(\"command: \", command)\n",
    "\n",
    "# Call a bash script\n",
    "output = subprocess.check_output(command)  # subprocess.call(command)\n",
    "print(output)"
   ]
  },
  {
   "cell_type": "markdown",
   "metadata": {},
   "source": [
    "## 4. Captura en tiempo real la salida de FreeFem++"
   ]
  },
  {
   "cell_type": "code",
   "execution_count": 14,
   "metadata": {},
   "outputs": [],
   "source": [
    "from subprocess import Popen, PIPE\n",
    "\n",
    "def run(command):\n",
    "    \"Run command, yielding *realtime* output\"\n",
    "    process = Popen(command, stdout=PIPE, shell=True)\n",
    "    while True:\n",
    "        line = process.stdout.readline()\n",
    "        if not line:\n",
    "            break\n",
    "        yield line.decode('UTF-8').strip()"
   ]
  },
  {
   "cell_type": "markdown",
   "metadata": {},
   "source": [
    "### Un ejemplo de uso de la función anterior"
   ]
  },
  {
   "cell_type": "code",
   "execution_count": 18,
   "metadata": {},
   "outputs": [
    {
     "name": "stdout",
     "output_type": "stream",
     "text": [
      "-- FreeFem++ v  3.380001 (date Sat Feb  6 20:00:25 UTC 2016)\n",
      "Load: lg_fem lg_mesh lg_mesh3 eigenvalue\n",
      "sizestack + 1024 =8000  ( 6976 )\n",
      "\n",
      "Solving, iter: 1 (t=0.001)\n",
      "max(u): 342.161\n",
      "max(v): 140.233\n",
      "Solving, iter: 2 (t=0.002)\n",
      "max(u): 396.142\n",
      "max(v): 139.722\n"
     ]
    }
   ],
   "source": [
    "dt, T = 0.001, 2\n",
    "\n",
    "graphics = False\n",
    "ff_interp= \"FreeFem++\" if graphics else \"FreeFem++-nw\"\n",
    "\n",
    "command = \"{} -ne keller-segel.edp -dt {} -nt {}\".format(ff_interp,dt,T)\n",
    "\n",
    "for line in run(command):\n",
    "    print(line)"
   ]
  },
  {
   "cell_type": "markdown",
   "metadata": {},
   "source": [
    "### Otro ejemplo, filtrando la salida "
   ]
  },
  {
   "cell_type": "code",
   "execution_count": 24,
   "metadata": {},
   "outputs": [],
   "source": [
    "import re\n",
    "for line in run(command):\n",
    "    line = re.findall(r'iter .+$', line)\n",
    "    if line:\n",
    "        print(line[0].split()[1])"
   ]
  },
  {
   "cell_type": "markdown",
   "metadata": {},
   "source": [
    "### Ejemplo final, barra de progreso"
   ]
  },
  {
   "cell_type": "code",
   "execution_count": 45,
   "metadata": {},
   "outputs": [
    {
     "data": {
      "application/vnd.jupyter.widget-view+json": {
       "model_id": "345ee80b6eb341bcab3f7583a5a16b98",
       "version_major": 2,
       "version_minor": 0
      },
      "text/html": [
       "<p>Failed to display Jupyter Widget of type <code>IntProgress</code>.</p>\n",
       "<p>\n",
       "  If you're reading this message in the Jupyter Notebook or JupyterLab Notebook, it may mean\n",
       "  that the widgets JavaScript is still loading. If this message persists, it\n",
       "  likely means that the widgets JavaScript library is either not installed or\n",
       "  not enabled. See the <a href=\"https://ipywidgets.readthedocs.io/en/stable/user_install.html\">Jupyter\n",
       "  Widgets Documentation</a> for setup instructions.\n",
       "</p>\n",
       "<p>\n",
       "  If you're reading this message in another frontend (for example, a static\n",
       "  rendering on GitHub or <a href=\"https://nbviewer.jupyter.org/\">NBViewer</a>),\n",
       "  it may mean that your frontend doesn't currently support widgets.\n",
       "</p>\n"
      ],
      "text/plain": [
       "IntProgress(value=0, description='Time:', max=20)"
      ]
     },
     "metadata": {},
     "output_type": "display_data"
    },
    {
     "name": "stdout",
     "output_type": "stream",
     "text": [
      "1 2 3 4 5 6 7 8 9 10 11 12 13 14 15 16 17 18 19 20 "
     ]
    }
   ],
   "source": [
    "import ipywidgets as widgets\n",
    "import re\n",
    "\n",
    "dt, nt = 0.001, 20\n",
    "T = dt*nt\n",
    "graphics = False\n",
    "ff_interp= \"FreeFem++\" if graphics else \"FreeFem++-nw\"\n",
    "command = \"{} -ne keller-segel.edp -dt {} -nt {}\".format(ff_interp,dt,nt)\n",
    "\n",
    "progress_bar = widgets.IntProgress(\n",
    "    min=0,\n",
    "    max=nt,\n",
    "    description='Time:' )\n",
    "display(progress_bar)\n",
    "for line in run(command):\n",
    "    line = re.findall(r'iter: .+$', line)\n",
    "    if line:\n",
    "        iteration = int(line[0].split()[1])\n",
    "        print(iteration, end=\" \")\n",
    "        progress_bar.value = iteration\n",
    "        progress_bar.description = \"{}/{} iter\".format(iteration, progress_bar.max)"
   ]
  },
  {
   "cell_type": "code",
   "execution_count": null,
   "metadata": {},
   "outputs": [],
   "source": []
  }
 ],
 "metadata": {
  "kernelspec": {
   "display_name": "Python 3",
   "language": "python",
   "name": "python3"
  },
  "language_info": {
   "codemirror_mode": {
    "name": "ipython",
    "version": 3
   },
   "file_extension": ".py",
   "mimetype": "text/x-python",
   "name": "python",
   "nbconvert_exporter": "python",
   "pygments_lexer": "ipython3",
   "version": "3.5.2"
  }
 },
 "nbformat": 4,
 "nbformat_minor": 2
}
