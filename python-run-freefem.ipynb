{
 "cells": [
  {
   "cell_type": "markdown",
   "metadata": {
    "deletable": true,
    "editable": true
   },
   "source": [
    "# Ejecución desde Jupyter de scripts FreeFem++"
   ]
  },
  {
   "cell_type": "markdown",
   "metadata": {
    "deletable": true,
    "editable": true
   },
   "source": [
    "## 1. Llamada directa al intérprete FreeFem++"
   ]
  },
  {
   "cell_type": "code",
   "execution_count": 1,
   "metadata": {
    "collapsed": false,
    "deletable": true,
    "editable": true
   },
   "outputs": [
    {
     "name": "stdout",
     "output_type": "stream",
     "text": [
      "-- FreeFem++ v  3.500002 (date Ven 20 jan 2017 09:13:24 CET)\n",
      " Load: lg_fem lg_mesh lg_mesh3 \n",
      " sizestack + 1024 =7920  ( 6896 )\n",
      "\n",
      "Solving, iter: 1 (t=0.001)\n",
      "  max(u): 342.161\n",
      "  max(v): 140.233\n",
      "Solving, iter: 2 (t=0.002)\n",
      "  max(u): 396.142\n",
      "  max(v): 139.722\n"
     ]
    }
   ],
   "source": [
    "!FreeFem++-nw -ne keller-segel.edp -dt 0.001 -nt 2"
   ]
  },
  {
   "cell_type": "markdown",
   "metadata": {
    "deletable": true,
    "editable": true
   },
   "source": [
    "## 2.- Ejecución de una shell bash"
   ]
  },
  {
   "cell_type": "code",
   "execution_count": 2,
   "metadata": {
    "collapsed": false,
    "deletable": true,
    "editable": true
   },
   "outputs": [
    {
     "name": "stdout",
     "output_type": "stream",
     "text": [
      "-- FreeFem++ v  3.500002 (date Ven 20 jan 2017 09:13:24 CET)\n",
      " Load: lg_fem lg_mesh lg_mesh3 \n",
      " sizestack + 1024 =7920  ( 6896 )\n",
      "\n",
      "Solving, iter: 1 (t=0.001)\n",
      "  max(u): 342.161\n",
      "  max(v): 140.233\n",
      "Solving, iter: 2 (t=0.002)\n",
      "  max(u): 396.142\n",
      "  max(v): 139.722\n"
     ]
    }
   ],
   "source": [
    "%%bash\n",
    "nt=2\n",
    "dt=0.001\n",
    "FreeFem++-nw -ne keller-segel.edp -dt $dt -nt $nt"
   ]
  },
  {
   "cell_type": "markdown",
   "metadata": {
    "deletable": true,
    "editable": true
   },
   "source": [
    "## 3.- Uso del módulo subprocess para ejecutar el intérprete FreeFem++"
   ]
  },
  {
   "cell_type": "code",
   "execution_count": 3,
   "metadata": {
    "collapsed": false,
    "deletable": true,
    "editable": true
   },
   "outputs": [
    {
     "name": "stdout",
     "output_type": "stream",
     "text": [
      "command:  ['FreeFem++', '-ne', 'keller-segel.edp', '-dt', '0.001', '-tf', '1']\n"
     ]
    },
    {
     "ename": "CalledProcessError",
     "evalue": "Command '['FreeFem++', '-ne', 'keller-segel.edp', '-dt', '0.001', '-tf', '1']' returned non-zero exit status -13",
     "output_type": "error",
     "traceback": [
      "\u001b[0;31m---------------------------------------------------------------------------\u001b[0m",
      "\u001b[0;31mCalledProcessError\u001b[0m                        Traceback (most recent call last)",
      "\u001b[0;32m<ipython-input-3-f25d74453fa1>\u001b[0m in \u001b[0;36m<module>\u001b[0;34m()\u001b[0m\n\u001b[1;32m      7\u001b[0m \u001b[0;34m\u001b[0m\u001b[0m\n\u001b[1;32m      8\u001b[0m \u001b[0;31m# Call a bash script\u001b[0m\u001b[0;34m\u001b[0m\u001b[0;34m\u001b[0m\u001b[0m\n\u001b[0;32m----> 9\u001b[0;31m \u001b[0moutput\u001b[0m \u001b[0;34m=\u001b[0m \u001b[0msubprocess\u001b[0m\u001b[0;34m.\u001b[0m\u001b[0mcheck_output\u001b[0m\u001b[0;34m(\u001b[0m\u001b[0mcommand\u001b[0m\u001b[0;34m)\u001b[0m  \u001b[0;31m# subprocess.call(command)\u001b[0m\u001b[0;34m\u001b[0m\u001b[0m\n\u001b[0m\u001b[1;32m     10\u001b[0m \u001b[0mprint\u001b[0m\u001b[0;34m(\u001b[0m\u001b[0moutput\u001b[0m\u001b[0;34m)\u001b[0m\u001b[0;34m\u001b[0m\u001b[0m\n",
      "\u001b[0;32m/usr/lib/python3.5/subprocess.py\u001b[0m in \u001b[0;36mcheck_output\u001b[0;34m(timeout, *popenargs, **kwargs)\u001b[0m\n\u001b[1;32m    624\u001b[0m \u001b[0;34m\u001b[0m\u001b[0m\n\u001b[1;32m    625\u001b[0m     return run(*popenargs, stdout=PIPE, timeout=timeout, check=True,\n\u001b[0;32m--> 626\u001b[0;31m                **kwargs).stdout\n\u001b[0m\u001b[1;32m    627\u001b[0m \u001b[0;34m\u001b[0m\u001b[0m\n\u001b[1;32m    628\u001b[0m \u001b[0;34m\u001b[0m\u001b[0m\n",
      "\u001b[0;32m/usr/lib/python3.5/subprocess.py\u001b[0m in \u001b[0;36mrun\u001b[0;34m(input, timeout, check, *popenargs, **kwargs)\u001b[0m\n\u001b[1;32m    706\u001b[0m         \u001b[0;32mif\u001b[0m \u001b[0mcheck\u001b[0m \u001b[0;32mand\u001b[0m \u001b[0mretcode\u001b[0m\u001b[0;34m:\u001b[0m\u001b[0;34m\u001b[0m\u001b[0m\n\u001b[1;32m    707\u001b[0m             raise CalledProcessError(retcode, process.args,\n\u001b[0;32m--> 708\u001b[0;31m                                      output=stdout, stderr=stderr)\n\u001b[0m\u001b[1;32m    709\u001b[0m     \u001b[0;32mreturn\u001b[0m \u001b[0mCompletedProcess\u001b[0m\u001b[0;34m(\u001b[0m\u001b[0mprocess\u001b[0m\u001b[0;34m.\u001b[0m\u001b[0margs\u001b[0m\u001b[0;34m,\u001b[0m \u001b[0mretcode\u001b[0m\u001b[0;34m,\u001b[0m \u001b[0mstdout\u001b[0m\u001b[0;34m,\u001b[0m \u001b[0mstderr\u001b[0m\u001b[0;34m)\u001b[0m\u001b[0;34m\u001b[0m\u001b[0m\n\u001b[1;32m    710\u001b[0m \u001b[0;34m\u001b[0m\u001b[0m\n",
      "\u001b[0;31mCalledProcessError\u001b[0m: Command '['FreeFem++', '-ne', 'keller-segel.edp', '-dt', '0.001', '-tf', '1']' returned non-zero exit status -13"
     ]
    }
   ],
   "source": [
    "#!/usr/bin/env python\n",
    "import subprocess\n",
    "\n",
    "dt, T = 0.001, 1\n",
    "command = \"FreeFem++ -ne keller-segel.edp -dt {} -tf {}\".format(dt,T).split()\n",
    "print(\"command: \", command)\n",
    "\n",
    "# Call a bash script\n",
    "output = subprocess.check_output(command)  # subprocess.call(command)\n",
    "print(output)"
   ]
  },
  {
   "cell_type": "markdown",
   "metadata": {
    "deletable": true,
    "editable": true
   },
   "source": [
    "## 4. Captura en tiempo real la salida de FreeFem++"
   ]
  },
  {
   "cell_type": "code",
   "execution_count": 1,
   "metadata": {
    "collapsed": true,
    "deletable": true,
    "editable": true
   },
   "outputs": [],
   "source": [
    "from subprocess import Popen, PIPE\n",
    "\n",
    "def run(command):\n",
    "    \"Run command, yielding *realtime* output\"\n",
    "    process = Popen(command, stdout=PIPE, shell=True)\n",
    "    while True:\n",
    "        line = process.stdout.readline()\n",
    "        if not line:\n",
    "            break\n",
    "        yield line.decode('UTF-8').strip()"
   ]
  },
  {
   "cell_type": "markdown",
   "metadata": {
    "deletable": true,
    "editable": true
   },
   "source": [
    "### Un ejemplo de uso de la función anterior"
   ]
  },
  {
   "cell_type": "code",
   "execution_count": 2,
   "metadata": {
    "collapsed": false,
    "deletable": true,
    "editable": true
   },
   "outputs": [
    {
     "name": "stdout",
     "output_type": "stream",
     "text": [
      "-- FreeFem++ v  3.500002 (date Ven 20 jan 2017 09:13:24 CET)\n",
      "Load: lg_fem lg_mesh lg_mesh3\n",
      "sizestack + 1024 =7920  ( 6896 )\n",
      "\n",
      "Solving, iter: 1 (t=0.001)\n",
      "max(u): 342.161\n",
      "max(v): 140.233\n",
      "Solving, iter: 2 (t=0.002)\n",
      "max(u): 396.142\n",
      "max(v): 139.722\n"
     ]
    }
   ],
   "source": [
    "dt, T = 0.001, 2\n",
    "\n",
    "graphics = False\n",
    "ff_interp= \"FreeFem++\" if graphics else \"FreeFem++-nw\"\n",
    "\n",
    "command = \"{} -ne keller-segel.edp -dt {} -nt {}\".format(ff_interp,dt,T)\n",
    "\n",
    "for line in run(command):\n",
    "    print(line)"
   ]
  },
  {
   "cell_type": "markdown",
   "metadata": {
    "deletable": true,
    "editable": true
   },
   "source": [
    "### Otro ejemplo, filtrando la salida "
   ]
  },
  {
   "cell_type": "code",
   "execution_count": 3,
   "metadata": {
    "collapsed": true,
    "deletable": true,
    "editable": true
   },
   "outputs": [],
   "source": [
    "import re\n",
    "for line in run(command):\n",
    "    line = re.findall(r'iter .+$', line)\n",
    "    if line:\n",
    "        print(line[0].split()[1])"
   ]
  },
  {
   "cell_type": "markdown",
   "metadata": {
    "deletable": true,
    "editable": true
   },
   "source": [
    "### Ejemplo final, barra de progreso"
   ]
  },
  {
   "cell_type": "code",
   "execution_count": 6,
   "metadata": {
    "collapsed": false,
    "deletable": true,
    "editable": true
   },
   "outputs": [
    {
     "data": {
      "application/vnd.jupyter.widget-view+json": {
       "model_id": "a6eda9f52a99410a8a6391577e81d058"
      }
     },
     "metadata": {},
     "output_type": "display_data"
    },
    {
     "name": "stdout",
     "output_type": "stream",
     "text": [
      "1 2 3 4 5 6 7 8 9 10 11 12 13 14 15 16 17 18 19 20 21 22 23 24 25 26 27 28 29 30 31 32 33 34 35 36 37 38 39 40 41 42 43 44 45 46 47 48 49 50 51 52 53 54 55 56 57 58 59 60 61 62 63 64 65 66 67 68 69 70 71 72 73 74 75 76 77 78 79 80 81 82 83 84 85 86 87 88 89 90 91 92 93 94 95 96 97 98 99 100 "
     ]
    }
   ],
   "source": [
    "import ipywidgets as widgets\n",
    "import re\n",
    "\n",
    "dt, nt = 0.0001, 100\n",
    "T = dt*nt\n",
    "graphics = False\n",
    "ff_interp= \"FreeFem++\" if graphics else \"FreeFem++-nw\"\n",
    "command = \"{} -ne keller-segel.edp -dt {} -nt {}\".format(ff_interp,dt,nt)\n",
    "\n",
    "progress_bar = widgets.IntProgress(\n",
    "    min=0,\n",
    "    max=nt,\n",
    "    description='Time:' )\n",
    "display(progress_bar)\n",
    "for line in run(command):\n",
    "    line = re.findall(r'iter: .+$', line)\n",
    "    if line:\n",
    "        iteration = int(line[0].split()[1])\n",
    "        print(iteration, end=\" \")\n",
    "        progress_bar.value = iteration\n",
    "        progress_bar.description = \"{}/{} iter\".format(iteration, progress_bar.max)"
   ]
  },
  {
   "cell_type": "code",
   "execution_count": 11,
   "metadata": {
    "collapsed": false,
    "deletable": true,
    "editable": true
   },
   "outputs": [
    {
     "ename": "IndentationError",
     "evalue": "expected an indented block (<ipython-input-11-f0cffbff6197>, line 13)",
     "output_type": "error",
     "traceback": [
      "\u001b[0;36m  File \u001b[0;32m\"<ipython-input-11-f0cffbff6197>\"\u001b[0;36m, line \u001b[0;32m13\u001b[0m\n\u001b[0;31m    \"Run a command, yielding *realtime* output\"\u001b[0m\n\u001b[0m                                              ^\u001b[0m\n\u001b[0;31mIndentationError\u001b[0m\u001b[0;31m:\u001b[0m expected an indented block\n"
     ]
    }
   ],
   "source": [
    "from subprocess import Popen, PIPE\n",
    "\n",
    "        \n",
    "class pyrunner:\n",
    "    \"\"\"\n",
    "    Defines objects for running programs or script files and\n",
    "    preprocesing their input, capturing their output and post-processing it\n",
    "    \"\"\"\n",
    "    def __init__(command):\n",
    "        self.command = command\n",
    "        \n",
    "    def run(command):\n",
    "    \"Run a command, yielding *realtime* output\"\n",
    "    process = Popen(command, stdout=PIPE, shell=True)\n",
    "    while True:\n",
    "        line = process.stdout.readline()\n",
    "        if not line:\n",
    "            break\n",
    "        yield line.decode('UTF-8').strip()\n",
    "\n",
    "class freefem_runner(pyrunner):\n",
    "    def __init__(edp_file):\n",
    "        dt, nt = 0.001, 20\n",
    "        T = dt*nt\n",
    "        graphics = False\n",
    "        ff_interp= \"FreeFem++\" if graphics else \"FreeFem++-nw\"\n",
    "        command = \"{} -ne keller-segel.edp -dt {} -nt {}\".format(ff_interp,dt,nt)\n",
    "        "
   ]
  },
  {
   "cell_type": "code",
   "execution_count": 12,
   "metadata": {
    "collapsed": false,
    "deletable": true,
    "editable": true
   },
   "outputs": [
    {
     "ename": "NameError",
     "evalue": "name 'f' is not defined",
     "output_type": "error",
     "traceback": [
      "\u001b[0;31m---------------------------------------------------------------------------\u001b[0m",
      "\u001b[0;31mNameError\u001b[0m                                 Traceback (most recent call last)",
      "\u001b[0;32m<ipython-input-12-8197b43fe3b6>\u001b[0m in \u001b[0;36m<module>\u001b[0;34m()\u001b[0m\n\u001b[1;32m      3\u001b[0m \u001b[0mgraphics\u001b[0m \u001b[0;34m=\u001b[0m \u001b[0;32mFalse\u001b[0m\u001b[0;34m\u001b[0m\u001b[0m\n\u001b[1;32m      4\u001b[0m \u001b[0mff_interp\u001b[0m\u001b[0;34m=\u001b[0m \u001b[0;34m\"FreeFem++\"\u001b[0m \u001b[0;32mif\u001b[0m \u001b[0mgraphics\u001b[0m \u001b[0;32melse\u001b[0m \u001b[0;34m\"FreeFem++-nw\"\u001b[0m\u001b[0;34m\u001b[0m\u001b[0m\n\u001b[0;32m----> 5\u001b[0;31m \u001b[0mfr\u001b[0m \u001b[0;34m=\u001b[0m \u001b[0mf\u001b[0m\u001b[0;34m\u001b[0m\u001b[0m\n\u001b[0m\u001b[1;32m      6\u001b[0m \u001b[0mcommand\u001b[0m \u001b[0;34m=\u001b[0m \u001b[0;34m\"{} -ne keller-segel.edp -dt {} -nt {}\"\u001b[0m\u001b[0;34m.\u001b[0m\u001b[0mformat\u001b[0m\u001b[0;34m(\u001b[0m\u001b[0mff_interp\u001b[0m\u001b[0;34m,\u001b[0m\u001b[0mdt\u001b[0m\u001b[0;34m,\u001b[0m\u001b[0mnt\u001b[0m\u001b[0;34m)\u001b[0m\u001b[0;34m\u001b[0m\u001b[0m\n",
      "\u001b[0;31mNameError\u001b[0m: name 'f' is not defined"
     ]
    }
   ],
   "source": [
    "dt, nt = 0.001, 20\n",
    "T = dt*nt\n",
    "graphics = False\n",
    "ff_interp= \"FreeFem++\" if graphics else \"FreeFem++-nw\"\n",
    "fr = f\n",
    "command = \"{} -ne keller-segel.edp -dt {} -nt {}\".format(ff_interp,dt,nt)"
   ]
  },
  {
   "cell_type": "code",
   "execution_count": null,
   "metadata": {
    "collapsed": true,
    "deletable": true,
    "editable": true
   },
   "outputs": [],
   "source": []
  }
 ],
 "metadata": {
  "kernelspec": {
   "display_name": "Python 3",
   "language": "python",
   "name": "python3"
  },
  "language_info": {
   "codemirror_mode": {
    "name": "ipython",
    "version": 3
   },
   "file_extension": ".py",
   "mimetype": "text/x-python",
   "name": "python",
   "nbconvert_exporter": "python",
   "pygments_lexer": "ipython3",
   "version": "3.5.2"
  }
 },
 "nbformat": 4,
 "nbformat_minor": 2
}
